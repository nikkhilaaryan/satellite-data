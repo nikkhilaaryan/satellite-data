{
 "cells": [
  {
   "cell_type": "code",
   "execution_count": 9,
   "id": "43ca732f",
   "metadata": {},
   "outputs": [],
   "source": [
    "import numpy as np\n",
    "import pandas as pd\n",
    "import matplotlib.pyplot as plt\n",
    "import seaborn as sns\n"
   ]
  },
  {
   "cell_type": "markdown",
   "id": "b6a71f0c",
   "metadata": {},
   "source": [
    "# Step 01: Loading the UCS Satellite Dataset"
   ]
  },
  {
   "cell_type": "code",
   "execution_count": 10,
   "id": "09774e8d",
   "metadata": {},
   "outputs": [
    {
     "name": "stdout",
     "output_type": "stream",
     "text": [
      "Shape of the dataset:  (7562, 67)\n",
      "\n",
      "Column names:  Index(['Current Official Name of Satellite', 'Country/Org of UN Registry',\n",
      "       'Country of Operator/Owner', 'Operator/Owner', 'Users', 'Purpose',\n",
      "       'Detailed Purpose', 'Class of Orbit', 'Type of Orbit',\n",
      "       'Longitude of GEO (degrees)', 'Perigee (km)', 'Apogee (km)',\n",
      "       'Eccentricity', 'Inclination (degrees)', 'Period (minutes)',\n",
      "       'Launch Mass (kg.)', ' Dry Mass (kg.) ', 'Power (watts)',\n",
      "       'Date of Launch', 'Expected Lifetime (yrs.)', 'Contractor',\n",
      "       'Country of Contractor', 'Launch Site', 'Launch Vehicle',\n",
      "       'COSPAR Number', 'NORAD Number', 'Comments', 'Unnamed: 27',\n",
      "       'Source Used for Orbital Data', 'Source', 'Source.1', 'Source.2',\n",
      "       'Source.3', 'Source.4', 'Source.5', 'Source.6', 'Unnamed: 36',\n",
      "       'Unnamed: 37', 'Unnamed: 38', 'Unnamed: 39', 'Unnamed: 40',\n",
      "       'Unnamed: 41', 'Unnamed: 42', 'Unnamed: 43', 'Unnamed: 44',\n",
      "       'Unnamed: 45', 'Unnamed: 46', 'Unnamed: 47', 'Unnamed: 48',\n",
      "       'Unnamed: 49', 'Unnamed: 50', 'Unnamed: 51', 'Unnamed: 52',\n",
      "       'Unnamed: 53', 'Unnamed: 54', 'Unnamed: 55', 'Unnamed: 56',\n",
      "       'Unnamed: 57', 'Unnamed: 58', 'Unnamed: 59', 'Unnamed: 60',\n",
      "       'Unnamed: 61', 'Unnamed: 62', 'Unnamed: 63', 'Unnamed: 64',\n",
      "       'Unnamed: 65', 'Unnamed: 66'],\n",
      "      dtype='object')\n",
      "\n",
      "First 5 rows:    Current Official Name of Satellite Country/Org of UN Registry  \\\n",
      "0                         1HOPSAT-TD                         NR   \n",
      "1            AAC AIS-Sat1Ê(Kelpie 1)             United Kingdom   \n",
      "2                            Aalto-1                    Finland   \n",
      "3                              AAt-4                    Denmark   \n",
      "4                              ABS-2                         NR   \n",
      "\n",
      "  Country of Operator/Owner                 Operator/Owner       Users  \\\n",
      "0                       USA                   Hera Systems  Commercial   \n",
      "1            United Kingdom                AAC Clyde Space  Commercial   \n",
      "2                   Finland               Aalto University       Civil   \n",
      "3                   Denmark          University of Aalborg       Civil   \n",
      "4             Multinational  Asia Broadcast Satellite Ltd.  Commercial   \n",
      "\n",
      "                  Purpose                       Detailed Purpose  \\\n",
      "0       Earth Observation                       Infrared Imaging   \n",
      "1       Earth Observation  Automatic Identification System (AIS)   \n",
      "2  Technology Development                                    NaN   \n",
      "3       Earth Observation  Automatic Identification System (AIS)   \n",
      "4          Communications                                    NaN   \n",
      "\n",
      "  Class of Orbit       Type of Orbit  Longitude of GEO (degrees)  ...  \\\n",
      "0            LEO  Non-Polar Inclined                         0.0  ...   \n",
      "1            LEO     Sun-Synchronous                         0.0  ...   \n",
      "2            LEO     Sun-Synchronous                         0.0  ...   \n",
      "3            LEO     Sun-Synchronous                         0.0  ...   \n",
      "4            GEO                 NaN                        75.0  ...   \n",
      "\n",
      "  Unnamed: 57 Unnamed: 58  Unnamed: 59  Unnamed: 60 Unnamed: 61 Unnamed: 62  \\\n",
      "0         NaN         NaN          NaN          NaN         NaN         NaN   \n",
      "1         NaN         NaN          NaN          NaN         NaN         NaN   \n",
      "2         NaN         NaN          NaN          NaN         NaN         NaN   \n",
      "3         NaN         NaN          NaN          NaN         NaN         NaN   \n",
      "4         NaN         NaN          NaN          NaN         NaN         NaN   \n",
      "\n",
      "  Unnamed: 63 Unnamed: 64 Unnamed: 65  Unnamed: 66  \n",
      "0         NaN         NaN         NaN          NaN  \n",
      "1         NaN         NaN         NaN          NaN  \n",
      "2         NaN         NaN         NaN          NaN  \n",
      "3         NaN         NaN         NaN          NaN  \n",
      "4         NaN         NaN         NaN          NaN  \n",
      "\n",
      "[5 rows x 67 columns]\n",
      "\n",
      "Data types:  Current Official Name of Satellite    object\n",
      "Country/Org of UN Registry            object\n",
      "Country of Operator/Owner             object\n",
      "Operator/Owner                        object\n",
      "Users                                 object\n",
      "                                       ...  \n",
      "Unnamed: 62                           object\n",
      "Unnamed: 63                           object\n",
      "Unnamed: 64                           object\n",
      "Unnamed: 65                           object\n",
      "Unnamed: 66                           object\n",
      "Length: 67, dtype: object\n"
     ]
    }
   ],
   "source": [
    "file_path= \"../data/text-data/ucs_satellites.txt\"\n",
    "\n",
    "df= pd.read_csv(file_path, sep=\"\\t\", encoding=\"latin1\")\n",
    "\n",
    "print(\"Shape of the dataset: \", df.shape)\n",
    "print(\"\\nColumn names: \", df.columns)\n",
    "print(\"\\nFirst 5 rows: \", df.head())\n",
    "print(\"\\nData types: \", df.dtypes)\n"
   ]
  },
  {
   "cell_type": "markdown",
   "id": "94aa57a1",
   "metadata": {},
   "source": [
    "# Step 02: Cleaning Dataset\n",
    "- Removing empty or irrelevant columns (like \"Unnamed: XX\").\n",
    "- Standardizing column names (strip spaces, lowercase, replace spaces with underscores)."
   ]
  },
  {
   "cell_type": "code",
   "execution_count": 11,
   "id": "95c7d5b2",
   "metadata": {},
   "outputs": [
    {
     "name": "stdout",
     "output_type": "stream",
     "text": [
      "Shape after cleaning:  (7562, 35)\n",
      "\n",
      "Column names after cleaning: \n",
      " ['current_official_name_of_satellite', 'countryorg_of_un_registry', 'country_of_operatorowner', 'operatorowner', 'users', 'purpose', 'detailed_purpose', 'class_of_orbit', 'type_of_orbit', 'longitude_of_geo_degrees', 'perigee_km', 'apogee_km', 'eccentricity', 'inclination_degrees', 'period_minutes', 'launch_mass_kg', 'dry_mass_kg', 'power_watts', 'date_of_launch', 'expected_lifetime_yrs']\n"
     ]
    }
   ],
   "source": [
    "df= df.loc[:, ~df.columns.str.contains('^Unnamed')]\n",
    "\n",
    "df.columns= (\n",
    "    df.columns\n",
    "    .str.strip()\n",
    "    .str.lower()\n",
    "    .str.replace(\" \", \"_\")\n",
    "    .str.replace(r'[^\\w]', '', regex=True)\n",
    ")\n",
    "\n",
    "print(\"Shape after cleaning: \", df.shape)\n",
    "print(\"\\nColumn names after cleaning: \\n\", df.columns.tolist()[:20])\n"
   ]
  },
  {
   "cell_type": "markdown",
   "id": "2703966e",
   "metadata": {},
   "source": [
    "# Step 03: Handling Missing Values and Selecting Core Columns\n",
    "- Identifying and handling missing values (e.g., filling with default values, removing rows/columns).\n",
    "- Selecting only the core columns that are essential for analysis (e.g., \"satellite_name\", \"launch_date\", \"country\", \"payload_mass_kg\", \"orbit_type\")."
   ]
  },
  {
   "cell_type": "code",
   "execution_count": 12,
   "id": "ec338c2e",
   "metadata": {},
   "outputs": [
    {
     "name": "stdout",
     "output_type": "stream",
     "text": [
      "\n",
      "Missing values in each column: \n",
      " source6                         7058\n",
      "source5                         7009\n",
      "power_watts                     6983\n",
      "source1                         6837\n",
      "source4                         6833\n",
      "dry_mass_kg                     6795\n",
      "source3                         6436\n",
      "detailed_purpose                6308\n",
      "source2                         5730\n",
      "comments                        5477\n",
      "source                          4276\n",
      "expected_lifetime_yrs           2112\n",
      "source_used_for_orbital_data     925\n",
      "type_of_orbit                    653\n",
      "launch_mass_kg                   247\n",
      "period_minutes                    58\n",
      "eccentricity                      13\n",
      "apogee_km                          9\n",
      "perigee_km                         9\n",
      "inclination_degrees                6\n",
      "dtype: int64\n",
      "\n",
      "Shape of reduced dataset: (7562, 16)\n",
      "\n",
      "First 5 rows:\n",
      "   current_official_name_of_satellite countryorg_of_un_registry  \\\n",
      "0                         1HOPSAT-TD                        NR   \n",
      "1            AAC AIS-Sat1Ê(Kelpie 1)            United Kingdom   \n",
      "2                            Aalto-1                   Finland   \n",
      "3                              AAt-4                   Denmark   \n",
      "4                              ABS-2                        NR   \n",
      "\n",
      "  country_of_operatorowner                  operatorowner       users  \\\n",
      "0                      USA                   Hera Systems  Commercial   \n",
      "1           United Kingdom                AAC Clyde Space  Commercial   \n",
      "2                  Finland               Aalto University       Civil   \n",
      "3                  Denmark          University of Aalborg       Civil   \n",
      "4            Multinational  Asia Broadcast Satellite Ltd.  Commercial   \n",
      "\n",
      "                  purpose class_of_orbit       type_of_orbit perigee_km  \\\n",
      "0       Earth Observation            LEO  Non-Polar Inclined        566   \n",
      "1       Earth Observation            LEO     Sun-Synchronous        637   \n",
      "2  Technology Development            LEO     Sun-Synchronous        497   \n",
      "3       Earth Observation            LEO     Sun-Synchronous        442   \n",
      "4          Communications            GEO                 NaN     35,778   \n",
      "\n",
      "  apogee_km  inclination_degrees period_minutes launch_mass_kg power_watts  \\\n",
      "0       576                36.90          96.08             22         NaN   \n",
      "1       654                98.00             95              4         NaN   \n",
      "2       517                97.45           94.7              5        4.50   \n",
      "3       687                98.20           95.9              1         NaN   \n",
      "4    35,793                 0.08        1436.03          6,330   16,000.00   \n",
      "\n",
      "  date_of_launch  expected_lifetime_yrs  \n",
      "0       12/11/19                    0.5  \n",
      "1         1/3/23                    NaN  \n",
      "2        6/23/17                    2.0  \n",
      "3        4/25/16                    NaN  \n",
      "4         2/6/14                   15.0  \n"
     ]
    }
   ],
   "source": [
    "missing_values= df.isnull().sum().sort_values(ascending=False)\n",
    "print(\"\\nMissing values in each column: \\n\", missing_values.head(20))\n",
    "\n",
    "core_columns = [\n",
    "    \"current_official_name_of_satellite\",\n",
    "    \"countryorg_of_un_registry\",\n",
    "    \"country_of_operatorowner\",\n",
    "    \"operatorowner\",\n",
    "    \"users\",\n",
    "    \"purpose\",\n",
    "    \"class_of_orbit\",\n",
    "    \"type_of_orbit\",\n",
    "    \"perigee_km\",\n",
    "    \"apogee_km\",\n",
    "    \"inclination_degrees\",\n",
    "    \"period_minutes\",\n",
    "    \"launch_mass_kg\",\n",
    "    \"power_watts\",\n",
    "    \"date_of_launch\",\n",
    "    \"expected_lifetime_yrs\"\n",
    "]\n",
    "\n",
    "df_core= df[[col for col in core_columns if col in df.columns]]\n",
    "\n",
    "print(\"\\nShape of reduced dataset:\", df_core.shape)\n",
    "print(\"\\nFirst 5 rows:\\n\", df_core.head())"
   ]
  },
  {
   "cell_type": "markdown",
   "id": "a6b9214c",
   "metadata": {},
   "source": [
    "# Step 04: Data Type Conversion\n",
    "- Converting columns to appropriate data types (e.g., dates, numerical values).\n"
   ]
  },
  {
   "cell_type": "code",
   "execution_count": null,
   "id": "cfd4c29e",
   "metadata": {},
   "outputs": [],
   "source": []
  }
 ],
 "metadata": {
  "kernelspec": {
   "display_name": ".venv",
   "language": "python",
   "name": "python3"
  },
  "language_info": {
   "codemirror_mode": {
    "name": "ipython",
    "version": 3
   },
   "file_extension": ".py",
   "mimetype": "text/x-python",
   "name": "python",
   "nbconvert_exporter": "python",
   "pygments_lexer": "ipython3",
   "version": "3.13.4"
  }
 },
 "nbformat": 4,
 "nbformat_minor": 5
}
